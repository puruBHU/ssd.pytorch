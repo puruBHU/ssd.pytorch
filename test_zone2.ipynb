{
 "cells": [
  {
   "cell_type": "markdown",
   "metadata": {},
   "source": [
    "# Finding out the output of 'match' function"
   ]
  },
  {
   "cell_type": "code",
   "execution_count": 1,
   "metadata": {},
   "outputs": [],
   "source": [
    "from data import *\n",
    "from utils.augmentations import SSDAugmentation\n",
    "import torch\n",
    "from torch.autograd import Variable\n",
    "from box_utils import match, point_form, jaccard, match, intersect, encode\n",
    "from box_utils import log_sum_exp\n",
    "from SSD_generate_anchors import generate_ssd_priors\n",
    "\n",
    "import collections\n",
    "from pathlib import Path\n",
    "from torch.utils.data import DataLoader\n",
    "import numpy as np"
   ]
  },
  {
   "cell_type": "code",
   "execution_count": 2,
   "metadata": {},
   "outputs": [],
   "source": [
    "root = Path.home()/'Documents'/'DATASETS'/'VOCdevkit'\n",
    "cfg = voc"
   ]
  },
  {
   "cell_type": "code",
   "execution_count": 3,
   "metadata": {},
   "outputs": [],
   "source": [
    "dataset = VOCDetection(root = root,\n",
    "                      transform=SSDAugmentation(cfg['min_dim'], MEANS))"
   ]
  },
  {
   "cell_type": "code",
   "execution_count": 4,
   "metadata": {},
   "outputs": [],
   "source": [
    "batch_size = 7\n",
    "\n",
    "data_loader = DataLoader(dataset, batch_size,\n",
    "                          num_workers=2,\n",
    "                          shuffle=True,\n",
    "                          collate_fn=detection_collate,\n",
    "                          pin_memory=True)\n",
    "batch_iterator = iter(data_loader)"
   ]
  },
  {
   "cell_type": "code",
   "execution_count": 5,
   "metadata": {},
   "outputs": [],
   "source": [
    "SSDBoxSizes = collections.namedtuple('SSDBoxSizes', ['min', 'max'])\n",
    "\n",
    "Spec = collections.namedtuple('Spec', ['feature_map_size', 'shrinkage', 'box_sizes', \n",
    "                                       'aspect_ratios'])\n",
    "\n",
    "specs = [\n",
    "    Spec(38, 8, SSDBoxSizes(30, 60), [2]),\n",
    "    Spec(19, 16, SSDBoxSizes(60, 111), [2, 3]),\n",
    "    Spec(10, 32, SSDBoxSizes(111, 162), [2, 3]),\n",
    "    Spec(5, 64, SSDBoxSizes(162, 213), [2, 3]),\n",
    "    Spec(3, 100, SSDBoxSizes(213, 264), [2]),\n",
    "    Spec(1, 300, SSDBoxSizes(264, 315), [2])\n",
    "]\n",
    "\n",
    "priors = generate_ssd_priors(specs, clip=True)"
   ]
  },
  {
   "cell_type": "code",
   "execution_count": 6,
   "metadata": {},
   "outputs": [],
   "source": [
    "priors = torch.Tensor(priors)\n",
    "# priors = point_form(priors)"
   ]
  },
  {
   "cell_type": "code",
   "execution_count": 7,
   "metadata": {},
   "outputs": [
    {
     "data": {
      "text/plain": [
       "tensor([[0.0133, 0.0133, 0.1000, 0.1000],\n",
       "        [0.0133, 0.0133, 0.1414, 0.1414],\n",
       "        [0.0133, 0.0133, 0.1414, 0.0707],\n",
       "        ...,\n",
       "        [0.5000, 0.5000, 0.9612, 0.9612],\n",
       "        [0.5000, 0.5000, 1.0000, 0.6223],\n",
       "        [0.5000, 0.5000, 0.6223, 1.0000]])"
      ]
     },
     "execution_count": 7,
     "metadata": {},
     "output_type": "execute_result"
    }
   ],
   "source": [
    "priors"
   ]
  },
  {
   "cell_type": "code",
   "execution_count": 8,
   "metadata": {},
   "outputs": [
    {
     "name": "stdout",
     "output_type": "stream",
     "text": [
      "2 8732\n",
      "4 8732\n",
      "1 8732\n",
      "2 8732\n",
      "1 8732\n",
      "3 8732\n",
      "4 8732\n"
     ]
    }
   ],
   "source": [
    "for idx, (image, target) in enumerate(batch_iterator):\n",
    "#     print(image.size(0))\n",
    "    bs    = image.size(0)\n",
    "    loc_t = torch.Tensor(batch_size, 8732, 4)\n",
    "    conf_t = torch.LongTensor(batch_size, 8732)\n",
    "    \n",
    "    for i in range(bs):\n",
    "        truths = target[i][:,:-1].data\n",
    "        labels = target[i][:,-1].data\n",
    "        defaults = priors.data\n",
    "\n",
    "        match(0.6, truths, defaults, [0.1,0.2], labels,\n",
    "                      loc_t, conf_t, idx)\n",
    "    \n",
    "    if idx == 0:\n",
    "        break"
   ]
  },
  {
   "cell_type": "code",
   "execution_count": 9,
   "metadata": {},
   "outputs": [
    {
     "data": {
      "text/plain": [
       "tensor([14., 14., 14., 14.])"
      ]
     },
     "execution_count": 9,
     "metadata": {},
     "output_type": "execute_result"
    }
   ],
   "source": [
    "labels"
   ]
  },
  {
   "cell_type": "code",
   "execution_count": 10,
   "metadata": {},
   "outputs": [
    {
     "data": {
      "text/plain": [
       "torch.Size([7, 8732])"
      ]
     },
     "execution_count": 10,
     "metadata": {},
     "output_type": "execute_result"
    }
   ],
   "source": [
    "conf_t.size()"
   ]
  },
  {
   "cell_type": "code",
   "execution_count": 11,
   "metadata": {},
   "outputs": [
    {
     "data": {
      "text/plain": [
       "torch.Size([7, 8732, 4])"
      ]
     },
     "execution_count": 11,
     "metadata": {},
     "output_type": "execute_result"
    }
   ],
   "source": [
    "loc_t.size()"
   ]
  },
  {
   "cell_type": "code",
   "execution_count": 12,
   "metadata": {},
   "outputs": [
    {
     "data": {
      "text/plain": [
       "tensor([[0, 0, 0,  ..., 0, 0, 0],\n",
       "        [0, 0, 0,  ..., 0, 0, 0],\n",
       "        [0, 0, 0,  ..., 0, 0, 0],\n",
       "        ...,\n",
       "        [0, 0, 0,  ..., 0, 0, 0],\n",
       "        [0, 0, 0,  ..., 0, 0, 0],\n",
       "        [0, 0, 0,  ..., 0, 0, 0]])"
      ]
     },
     "execution_count": 12,
     "metadata": {},
     "output_type": "execute_result"
    }
   ],
   "source": [
    "conf_t"
   ]
  },
  {
   "cell_type": "code",
   "execution_count": 13,
   "metadata": {},
   "outputs": [
    {
     "name": "stdout",
     "output_type": "stream",
     "text": [
      "torch.Size([7, 8732])\n",
      "torch.Size([7, 1])\n"
     ]
    }
   ],
   "source": [
    "pos = conf_t > 0\n",
    "print(pos.size())\n",
    "num_pos = pos.sum(dim=1, keepdim=True)\n",
    "print(num_pos.size())"
   ]
  },
  {
   "cell_type": "code",
   "execution_count": 14,
   "metadata": {},
   "outputs": [
    {
     "data": {
      "text/plain": [
       "tensor([[8],\n",
       "        [0],\n",
       "        [0],\n",
       "        [0],\n",
       "        [0],\n",
       "        [0],\n",
       "        [0]])"
      ]
     },
     "execution_count": 14,
     "metadata": {},
     "output_type": "execute_result"
    }
   ],
   "source": [
    "num_pos"
   ]
  },
  {
   "cell_type": "code",
   "execution_count": 15,
   "metadata": {},
   "outputs": [
    {
     "data": {
      "text/plain": [
       "torch.Size([7, 1])"
      ]
     },
     "execution_count": 15,
     "metadata": {},
     "output_type": "execute_result"
    }
   ],
   "source": [
    "num_pos.size()"
   ]
  },
  {
   "cell_type": "code",
   "execution_count": 16,
   "metadata": {},
   "outputs": [
    {
     "name": "stdout",
     "output_type": "stream",
     "text": [
      "torch.Size([7, 8732, 4])\n",
      "torch.Size([7, 8732, 4])\n",
      "torch.Size([8, 4])\n",
      "torch.Size([8, 4])\n"
     ]
    }
   ],
   "source": [
    "random_data = np.random.randn(batch_size, 8732, 4)\n",
    "loc_data    = torch.Tensor(random_data)\n",
    "print(loc_data.size())\n",
    "\n",
    "pos_idx = pos.unsqueeze(pos.dim()).expand_as(loc_data)\n",
    "print(pos_idx.size())\n",
    "\n",
    "loc_p = loc_data[pos_idx].view(-1, 4)\n",
    "loc_t = loc_t[pos_idx].view(-1, 4)\n",
    "\n",
    "print(loc_p.size())\n",
    "print(loc_t.size())"
   ]
  },
  {
   "cell_type": "code",
   "execution_count": 17,
   "metadata": {},
   "outputs": [
    {
     "data": {
      "text/plain": [
       "tensor([[ 0.7192, -0.4729,  0.5207, -1.3896],\n",
       "        [ 1.3222,  0.3499,  0.9224, -0.7630],\n",
       "        [ 0.6483, -1.5990, -0.7446,  0.0196],\n",
       "        [ 1.5696, -1.0870, -0.5336,  1.1965],\n",
       "        [-0.2910,  0.9180, -0.9050, -0.4472],\n",
       "        [-1.0179,  0.6931, -0.9298, -0.1200],\n",
       "        [ 2.0300,  0.7415,  0.4269, -0.3017],\n",
       "        [ 0.2663, -0.2492, -1.2191, -0.5398]])"
      ]
     },
     "execution_count": 17,
     "metadata": {},
     "output_type": "execute_result"
    }
   ],
   "source": [
    "loc_p\n"
   ]
  },
  {
   "cell_type": "code",
   "execution_count": 18,
   "metadata": {},
   "outputs": [
    {
     "data": {
      "text/plain": [
       "tensor([[-1.9182,  0.7773,  0.9942,  0.2671],\n",
       "        [-0.0750,  1.1226,  1.2403,  1.1469],\n",
       "        [ 1.0331, -0.0512, -1.7410, -0.5957],\n",
       "        [-1.9726, -0.6284,  0.1717,  0.0156],\n",
       "        [-1.9182, -0.8871,  0.9942,  0.2671],\n",
       "        [-0.0750, -0.9159,  1.2403,  1.1469],\n",
       "        [ 0.3964,  1.1028, -0.8961, -1.6233],\n",
       "        [ 0.3964, -1.1781, -0.8961, -1.6233]])"
      ]
     },
     "execution_count": 18,
     "metadata": {},
     "output_type": "execute_result"
    }
   ],
   "source": [
    "loc_t"
   ]
  },
  {
   "cell_type": "code",
   "execution_count": 19,
   "metadata": {},
   "outputs": [],
   "source": [
    "conf_data = np.random.randint(low= 0, high= 20, size= (batch_size, 8732, 21))\n",
    "conf_data = torch.Tensor(conf_data)"
   ]
  },
  {
   "cell_type": "code",
   "execution_count": 20,
   "metadata": {},
   "outputs": [],
   "source": [
    "batch_conf = conf_data.view(-1, 21)\n",
    "loss_c = log_sum_exp(batch_conf) - torch.gather(batch_conf,1, conf_t.view(-1, 1))"
   ]
  },
  {
   "cell_type": "code",
   "execution_count": 24,
   "metadata": {},
   "outputs": [
    {
     "data": {
      "text/plain": [
       "tensor([[13.7442],\n",
       "        [ 7.7956],\n",
       "        [12.8854],\n",
       "        ...,\n",
       "        [ 2.2873],\n",
       "        [15.1825],\n",
       "        [14.5848]])"
      ]
     },
     "execution_count": 24,
     "metadata": {},
     "output_type": "execute_result"
    }
   ],
   "source": [
    "loss_c"
   ]
  },
  {
   "cell_type": "code",
   "execution_count": 26,
   "metadata": {},
   "outputs": [],
   "source": [
    "loss_c = loss_c.view(batch_size, -1)"
   ]
  },
  {
   "cell_type": "code",
   "execution_count": 27,
   "metadata": {},
   "outputs": [],
   "source": [
    "loss_c[pos] = 0"
   ]
  },
  {
   "cell_type": "code",
   "execution_count": 28,
   "metadata": {},
   "outputs": [],
   "source": [
    "_, loss_idx = loss_c.sort(1, descending=True)"
   ]
  },
  {
   "cell_type": "code",
   "execution_count": 32,
   "metadata": {},
   "outputs": [
    {
     "name": "stdout",
     "output_type": "stream",
     "text": [
      "torch.Size([7, 8732])\n"
     ]
    }
   ],
   "source": [
    "_, idx_rank = loss_idx.sort(1)\n",
    "print(idx_rank.size())"
   ]
  },
  {
   "cell_type": "code",
   "execution_count": 34,
   "metadata": {},
   "outputs": [],
   "source": [
    "num_pos = pos.sum(1 , keepdim = True)"
   ]
  },
  {
   "cell_type": "code",
   "execution_count": 36,
   "metadata": {},
   "outputs": [
    {
     "name": "stdout",
     "output_type": "stream",
     "text": [
      "tensor([[24],\n",
      "        [ 0],\n",
      "        [ 0],\n",
      "        [ 0],\n",
      "        [ 0],\n",
      "        [ 0],\n",
      "        [ 0]])\n"
     ]
    }
   ],
   "source": [
    "num_neg = torch.clamp(3 * num_pos, max=pos.size(1) - 1)\n",
    "print(num_neg)"
   ]
  },
  {
   "cell_type": "code",
   "execution_count": 38,
   "metadata": {},
   "outputs": [
    {
     "name": "stdout",
     "output_type": "stream",
     "text": [
      "tensor([[0, 0, 0,  ..., 0, 0, 0],\n",
      "        [0, 0, 0,  ..., 0, 0, 0],\n",
      "        [0, 0, 0,  ..., 0, 0, 0],\n",
      "        ...,\n",
      "        [0, 0, 0,  ..., 0, 0, 0],\n",
      "        [0, 0, 0,  ..., 0, 0, 0],\n",
      "        [0, 0, 0,  ..., 0, 0, 0]], dtype=torch.uint8)\n"
     ]
    }
   ],
   "source": [
    "neg = idx_rank < num_neg.expand_as(idx_rank)\n",
    "print(neg)"
   ]
  },
  {
   "cell_type": "code",
   "execution_count": 39,
   "metadata": {},
   "outputs": [
    {
     "name": "stdout",
     "output_type": "stream",
     "text": [
      "torch.Size([7, 8732, 21])\n",
      "torch.Size([7, 8732, 21])\n"
     ]
    }
   ],
   "source": [
    "pos_idx = pos.unsqueeze(2).expand_as(conf_data)\n",
    "neg_idx = neg.unsqueeze(2).expand_as(conf_data)\n",
    "print(pos_idx.size())\n",
    "print(neg_idx.size())"
   ]
  },
  {
   "cell_type": "code",
   "execution_count": 42,
   "metadata": {},
   "outputs": [
    {
     "name": "stdout",
     "output_type": "stream",
     "text": [
      "torch.Size([32, 21])\n"
     ]
    }
   ],
   "source": [
    "conf_p = conf_data[(pos_idx+neg_idx).gt(0)].view(-1, 21)\n",
    "print(conf_p.size())"
   ]
  },
  {
   "cell_type": "code",
   "execution_count": 43,
   "metadata": {},
   "outputs": [],
   "source": [
    "targets_weighted = conf_t[(pos+neg).gt(0)]"
   ]
  },
  {
   "cell_type": "code",
   "execution_count": 44,
   "metadata": {},
   "outputs": [],
   "source": [
    "N = num_pos.data.sum()"
   ]
  },
  {
   "cell_type": "code",
   "execution_count": null,
   "metadata": {},
   "outputs": [],
   "source": [
    "loss_l /= N\n",
    "loss_c /= N\n"
   ]
  }
 ],
 "metadata": {
  "kernelspec": {
   "display_name": "Python 3",
   "language": "python",
   "name": "python3"
  },
  "language_info": {
   "codemirror_mode": {
    "name": "ipython",
    "version": 3
   },
   "file_extension": ".py",
   "mimetype": "text/x-python",
   "name": "python",
   "nbconvert_exporter": "python",
   "pygments_lexer": "ipython3",
   "version": "3.7.3"
  }
 },
 "nbformat": 4,
 "nbformat_minor": 2
}

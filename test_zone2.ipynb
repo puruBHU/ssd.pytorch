{
 "cells": [
  {
   "cell_type": "markdown",
   "metadata": {},
   "source": [
    "# Finding out the output of 'match' function"
   ]
  },
  {
   "cell_type": "code",
   "execution_count": 1,
   "metadata": {},
   "outputs": [],
   "source": [
    "from data import *\n",
    "from utils.augmentations import SSDAugmentation\n",
    "import torch\n",
    "from torch.autograd import Variable\n",
    "from box_utils import match, point_form, jaccard, match, intersect, encode\n",
    "from box_utils import log_sum_exp\n",
    "from SSD_generate_anchors import generate_ssd_priors\n",
    "\n",
    "import collections\n",
    "from pathlib import Path\n",
    "from torch.utils.data import DataLoader\n",
    "import numpy as np"
   ]
  },
  {
   "cell_type": "code",
   "execution_count": 2,
   "metadata": {},
   "outputs": [],
   "source": [
    "root = Path.home()/'Documents'/'DATASETS'/'VOCdevkit'\n",
    "cfg = voc"
   ]
  },
  {
   "cell_type": "code",
   "execution_count": 3,
   "metadata": {},
   "outputs": [],
   "source": [
    "dataset = VOCDetection(root = root,\n",
    "                      transform=SSDAugmentation(cfg['min_dim'], MEANS))"
   ]
  },
  {
   "cell_type": "code",
   "execution_count": 4,
   "metadata": {},
   "outputs": [],
   "source": [
    "batch_size = 7\n",
    "\n",
    "data_loader = DataLoader(dataset, batch_size,\n",
    "                          num_workers=2,\n",
    "                          shuffle=True,\n",
    "                          collate_fn=detection_collate,\n",
    "                          pin_memory=True)\n",
    "batch_iterator = iter(data_loader)"
   ]
  },
  {
   "cell_type": "code",
   "execution_count": 5,
   "metadata": {},
   "outputs": [],
   "source": [
    "SSDBoxSizes = collections.namedtuple('SSDBoxSizes', ['min', 'max'])\n",
    "\n",
    "Spec = collections.namedtuple('Spec', ['feature_map_size', 'shrinkage', 'box_sizes', \n",
    "                                       'aspect_ratios'])\n",
    "\n",
    "specs = [\n",
    "    Spec(38, 8, SSDBoxSizes(30, 60), [2]),\n",
    "    Spec(19, 16, SSDBoxSizes(60, 111), [2, 3]),\n",
    "    Spec(10, 32, SSDBoxSizes(111, 162), [2, 3]),\n",
    "    Spec(5, 64, SSDBoxSizes(162, 213), [2, 3]),\n",
    "    Spec(3, 100, SSDBoxSizes(213, 264), [2]),\n",
    "    Spec(1, 300, SSDBoxSizes(264, 315), [2])\n",
    "]\n",
    "\n",
    "priors = generate_ssd_priors(specs, clip=True)"
   ]
  },
  {
   "cell_type": "code",
   "execution_count": 6,
   "metadata": {},
   "outputs": [],
   "source": [
    "priors = torch.Tensor(priors)\n",
    "# priors = point_form(priors)"
   ]
  },
  {
   "cell_type": "code",
   "execution_count": 7,
   "metadata": {},
   "outputs": [
    {
     "data": {
      "text/plain": [
       "tensor([[0.0133, 0.0133, 0.1000, 0.1000],\n",
       "        [0.0133, 0.0133, 0.1414, 0.1414],\n",
       "        [0.0133, 0.0133, 0.1414, 0.0707],\n",
       "        ...,\n",
       "        [0.5000, 0.5000, 0.9612, 0.9612],\n",
       "        [0.5000, 0.5000, 1.0000, 0.6223],\n",
       "        [0.5000, 0.5000, 0.6223, 1.0000]])"
      ]
     },
     "execution_count": 7,
     "metadata": {},
     "output_type": "execute_result"
    }
   ],
   "source": [
    "priors"
   ]
  },
  {
   "cell_type": "code",
   "execution_count": 8,
   "metadata": {},
   "outputs": [
    {
     "name": "stdout",
     "output_type": "stream",
     "text": [
      "1 8732\n",
      "3 8732\n",
      "1 8732\n",
      "1 8732\n",
      "1 8732\n",
      "1 8732\n",
      "1 8732\n"
     ]
    }
   ],
   "source": [
    "for idx, (image, target) in enumerate(batch_iterator):\n",
    "#     print(image.size(0))\n",
    "    bs    = image.size(0)\n",
    "    loc_t = torch.Tensor(batch_size, 8732, 4)\n",
    "    conf_t = torch.LongTensor(batch_size, 8732)\n",
    "    \n",
    "    for i in range(bs):\n",
    "        truths = target[i][:,:-1].data\n",
    "        labels = target[i][:,-1].data\n",
    "        defaults = priors.data\n",
    "\n",
    "        match(0.6, truths, defaults, [0.1,0.2], labels,\n",
    "                      loc_t, conf_t, idx)\n",
    "    \n",
    "    if idx == 0:\n",
    "        break"
   ]
  },
  {
   "cell_type": "code",
   "execution_count": 9,
   "metadata": {},
   "outputs": [
    {
     "data": {
      "text/plain": [
       "tensor([12.])"
      ]
     },
     "execution_count": 9,
     "metadata": {},
     "output_type": "execute_result"
    }
   ],
   "source": [
    "labels"
   ]
  },
  {
   "cell_type": "code",
   "execution_count": 10,
   "metadata": {},
   "outputs": [
    {
     "data": {
      "text/plain": [
       "torch.Size([7, 8732])"
      ]
     },
     "execution_count": 10,
     "metadata": {},
     "output_type": "execute_result"
    }
   ],
   "source": [
    "conf_t.size()"
   ]
  },
  {
   "cell_type": "code",
   "execution_count": 11,
   "metadata": {},
   "outputs": [
    {
     "data": {
      "text/plain": [
       "torch.Size([7, 8732, 4])"
      ]
     },
     "execution_count": 11,
     "metadata": {},
     "output_type": "execute_result"
    }
   ],
   "source": [
    "loc_t.size()"
   ]
  },
  {
   "cell_type": "code",
   "execution_count": 12,
   "metadata": {},
   "outputs": [
    {
     "data": {
      "text/plain": [
       "tensor([[0, 0, 0,  ..., 0, 0, 0],\n",
       "        [0, 0, 0,  ..., 0, 0, 0],\n",
       "        [0, 0, 0,  ..., 0, 0, 0],\n",
       "        ...,\n",
       "        [0, 0, 0,  ..., 0, 0, 0],\n",
       "        [0, 0, 0,  ..., 0, 0, 0],\n",
       "        [0, 0, 0,  ..., 0, 0, 0]])"
      ]
     },
     "execution_count": 12,
     "metadata": {},
     "output_type": "execute_result"
    }
   ],
   "source": [
    "conf_t"
   ]
  },
  {
   "cell_type": "code",
   "execution_count": 13,
   "metadata": {},
   "outputs": [
    {
     "name": "stdout",
     "output_type": "stream",
     "text": [
      "torch.Size([7, 8732])\n",
      "torch.Size([7, 1])\n"
     ]
    }
   ],
   "source": [
    "pos = conf_t > 0\n",
    "print(pos.size())\n",
    "num_pos = pos.sum(dim=1, keepdim=True)\n",
    "print(num_pos.size())"
   ]
  },
  {
   "cell_type": "code",
   "execution_count": 14,
   "metadata": {},
   "outputs": [
    {
     "data": {
      "text/plain": [
       "tensor([[1],\n",
       "        [0],\n",
       "        [0],\n",
       "        [0],\n",
       "        [0],\n",
       "        [0],\n",
       "        [0]])"
      ]
     },
     "execution_count": 14,
     "metadata": {},
     "output_type": "execute_result"
    }
   ],
   "source": [
    "num_pos"
   ]
  },
  {
   "cell_type": "code",
   "execution_count": 15,
   "metadata": {},
   "outputs": [
    {
     "data": {
      "text/plain": [
       "torch.Size([7, 1])"
      ]
     },
     "execution_count": 15,
     "metadata": {},
     "output_type": "execute_result"
    }
   ],
   "source": [
    "num_pos.size()"
   ]
  },
  {
   "cell_type": "code",
   "execution_count": 16,
   "metadata": {},
   "outputs": [
    {
     "name": "stdout",
     "output_type": "stream",
     "text": [
      "torch.Size([7, 8732, 4])\n",
      "torch.Size([7, 8732, 4])\n",
      "torch.Size([1, 4])\n",
      "torch.Size([1, 4])\n"
     ]
    }
   ],
   "source": [
    "random_data = np.random.randn(batch_size, 8732, 4)\n",
    "loc_data    = torch.Tensor(random_data)\n",
    "print(loc_data.size())\n",
    "\n",
    "pos_idx = pos.unsqueeze(pos.dim()).expand_as(loc_data)\n",
    "print(pos_idx.size())\n",
    "\n",
    "loc_p = loc_data[pos_idx].view(-1, 4)\n",
    "loc_t = loc_t[pos_idx].view(-1, 4)\n",
    "\n",
    "print(loc_p.size())\n",
    "print(loc_t.size())"
   ]
  },
  {
   "cell_type": "code",
   "execution_count": 17,
   "metadata": {},
   "outputs": [
    {
     "data": {
      "text/plain": [
       "tensor([[ 0.1962, -0.4101,  0.3954,  1.5375]])"
      ]
     },
     "execution_count": 17,
     "metadata": {},
     "output_type": "execute_result"
    }
   ],
   "source": [
    "loc_p\n"
   ]
  },
  {
   "cell_type": "code",
   "execution_count": 18,
   "metadata": {},
   "outputs": [
    {
     "data": {
      "text/plain": [
       "tensor([[ 1.2862, -1.5149,  1.2765, -0.4414]])"
      ]
     },
     "execution_count": 18,
     "metadata": {},
     "output_type": "execute_result"
    }
   ],
   "source": [
    "loc_t"
   ]
  },
  {
   "cell_type": "code",
   "execution_count": 19,
   "metadata": {},
   "outputs": [],
   "source": [
    "conf_data = np.random.randint(low= 0, high= 20, size= (batch_size, 8732, 21))\n",
    "conf_data = torch.Tensor(conf_data)"
   ]
  },
  {
   "cell_type": "code",
   "execution_count": 20,
   "metadata": {},
   "outputs": [],
   "source": [
    "batch_conf = conf_data.view(-1, 21)\n",
    "loss_c = log_sum_exp(batch_conf) - torch.gather(batch_conf,1, conf_t.view(-1, 1))"
   ]
  },
  {
   "cell_type": "code",
   "execution_count": 96,
   "metadata": {},
   "outputs": [
    {
     "name": "stdout",
     "output_type": "stream",
     "text": [
      "torch.Size([61124, 21])\n",
      "torch.Size([61124, 1])\n"
     ]
    }
   ],
   "source": [
    "print(batch_conf.size())\n",
    "print(conf_t.view(-1,1).size())"
   ]
  },
  {
   "cell_type": "code",
   "execution_count": 45,
   "metadata": {},
   "outputs": [
    {
     "name": "stdout",
     "output_type": "stream",
     "text": [
      "(10, 21)\n",
      "[[ 7 17  2 18  2  1  3  2 15 16  5 12  6 13 13 16  9  3 11  8  2]\n",
      " [14  3 17 15  1  8  2  7 18  0 18  3  0 11  4 12 16  8 18 11 15]\n",
      " [13  4  4 17 13 14  6  0  7  7  7 13  0 18  8  4  9  3  0 14 14]\n",
      " [ 4  7 19  7  7 15  0 13  5 19  6  0  5 15  5 12  3  1 18  8  6]\n",
      " [19 18  5  3 11 10  2 12 14  9 16 19  3  1 14 19 19 13 16  8 13]\n",
      " [ 7  0  6  2  5  1  8  4 13  2 17 11 17 10  8 17  0 12 17 14 16]\n",
      " [18 17  3  6  0  2 14 19 18 13 12 12  1  3 13 16 12 10  8  0 16]\n",
      " [17 12 12  0  3 18 14 10  9 18  8 12 14 12  7  7  4 19  2  4 12]\n",
      " [15 15 18 14  1  6  3  8 14 10  4 16  8  7  3 12 18 11 11 12  3]\n",
      " [17  3  9 10  7 12  9  3 18 18  8  4  3 12  2  5 10  3  5 18  3]]\n"
     ]
    }
   ],
   "source": [
    "# v = np.random.randint(0, 20, size=(10, 21))\n",
    "# print(v.shape)\n",
    "# print(v)"
   ]
  },
  {
   "cell_type": "code",
   "execution_count": 46,
   "metadata": {},
   "outputs": [
    {
     "name": "stdout",
     "output_type": "stream",
     "text": [
      "tensor([[ 7., 17.,  2., 18.,  2.,  1.,  3.,  2., 15., 16.,  5., 12.,  6., 13.,\n",
      "         13., 16.,  9.,  3., 11.,  8.,  2.],\n",
      "        [14.,  3., 17., 15.,  1.,  8.,  2.,  7., 18.,  0., 18.,  3.,  0., 11.,\n",
      "          4., 12., 16.,  8., 18., 11., 15.],\n",
      "        [13.,  4.,  4., 17., 13., 14.,  6.,  0.,  7.,  7.,  7., 13.,  0., 18.,\n",
      "          8.,  4.,  9.,  3.,  0., 14., 14.],\n",
      "        [ 4.,  7., 19.,  7.,  7., 15.,  0., 13.,  5., 19.,  6.,  0.,  5., 15.,\n",
      "          5., 12.,  3.,  1., 18.,  8.,  6.],\n",
      "        [19., 18.,  5.,  3., 11., 10.,  2., 12., 14.,  9., 16., 19.,  3.,  1.,\n",
      "         14., 19., 19., 13., 16.,  8., 13.],\n",
      "        [ 7.,  0.,  6.,  2.,  5.,  1.,  8.,  4., 13.,  2., 17., 11., 17., 10.,\n",
      "          8., 17.,  0., 12., 17., 14., 16.],\n",
      "        [18., 17.,  3.,  6.,  0.,  2., 14., 19., 18., 13., 12., 12.,  1.,  3.,\n",
      "         13., 16., 12., 10.,  8.,  0., 16.],\n",
      "        [17., 12., 12.,  0.,  3., 18., 14., 10.,  9., 18.,  8., 12., 14., 12.,\n",
      "          7.,  7.,  4., 19.,  2.,  4., 12.],\n",
      "        [15., 15., 18., 14.,  1.,  6.,  3.,  8., 14., 10.,  4., 16.,  8.,  7.,\n",
      "          3., 12., 18., 11., 11., 12.,  3.],\n",
      "        [17.,  3.,  9., 10.,  7., 12.,  9.,  3., 18., 18.,  8.,  4.,  3., 12.,\n",
      "          2.,  5., 10.,  3.,  5., 18.,  3.]])\n"
     ]
    }
   ],
   "source": [
    "# v_ = torch.Tensor(v)\n",
    "# print(v_)"
   ]
  },
  {
   "cell_type": "code",
   "execution_count": 47,
   "metadata": {},
   "outputs": [
    {
     "data": {
      "text/plain": [
       "tensor([[18.5338],\n",
       "        [19.2880],\n",
       "        [18.3669],\n",
       "        [19.8788],\n",
       "        [20.5013],\n",
       "        [18.4921],\n",
       "        [19.6857],\n",
       "        [19.6362],\n",
       "        [18.8236],\n",
       "        [19.2160]])"
      ]
     },
     "execution_count": 47,
     "metadata": {},
     "output_type": "execute_result"
    }
   ],
   "source": [
    "log_sum_exp(v_)"
   ]
  },
  {
   "cell_type": "code",
   "execution_count": 48,
   "metadata": {},
   "outputs": [],
   "source": [
    "def np_log_sum_exp(x):\n",
    "    x_max = np.max(x)\n",
    "    return np.log(np.sum(np.exp(x - x_max), axis=1, keepdims=True)) + x_max"
   ]
  },
  {
   "cell_type": "code",
   "execution_count": 49,
   "metadata": {},
   "outputs": [
    {
     "data": {
      "text/plain": [
       "array([[18.53379888],\n",
       "       [19.28799666],\n",
       "       [18.36691006],\n",
       "       [19.87877325],\n",
       "       [20.50125585],\n",
       "       [18.49210127],\n",
       "       [19.68574085],\n",
       "       [19.63622123],\n",
       "       [18.82363708],\n",
       "       [19.21604676]])"
      ]
     },
     "execution_count": 49,
     "metadata": {},
     "output_type": "execute_result"
    }
   ],
   "source": [
    "np_log_sum_exp(v)"
   ]
  },
  {
   "cell_type": "code",
   "execution_count": 93,
   "metadata": {},
   "outputs": [
    {
     "name": "stdout",
     "output_type": "stream",
     "text": [
      "tensor([[-2.0881],\n",
      "        [ 0.5326],\n",
      "        [ 0.1850],\n",
      "        [ 0.4622]])\n"
     ]
    }
   ],
   "source": [
    "m = torch.randn(4,2)\n",
    "# print(m)\n",
    "ids = torch.Tensor([1,1,0,0]).long()\n",
    "print(m.gather(1, ids.view(-1,1)))\n",
    "aa = m.gather(1, ids.view(-1,1)).numpy()"
   ]
  },
  {
   "cell_type": "code",
   "execution_count": 89,
   "metadata": {},
   "outputs": [],
   "source": [
    "def gather(self, dim, index):\n",
    "    \"\"\"\n",
    "    Gathers values along an axis specified by ``dim``.\n",
    "\n",
    "    For a 3-D tensor the output is specified by:\n",
    "        out[i][j][k] = input[index[i][j][k]][j][k]  # if dim == 0\n",
    "        out[i][j][k] = input[i][index[i][j][k]][k]  # if dim == 1\n",
    "        out[i][j][k] = input[i][j][index[i][j][k]]  # if dim == 2\n",
    "\n",
    "    Parameters\n",
    "    ----------\n",
    "    dim:\n",
    "        The axis along which to index\n",
    "    index:\n",
    "        A tensor of indices of elements to gather\n",
    "\n",
    "    Returns\n",
    "    -------\n",
    "    Output Tensor\n",
    "    \"\"\"\n",
    "    idx_xsection_shape = index.shape[:dim] + \\\n",
    "        index.shape[dim + 1:]\n",
    "    self_xsection_shape = self.shape[:dim] + self.shape[dim + 1:]\n",
    "    if idx_xsection_shape != self_xsection_shape:\n",
    "        raise ValueError(\"Except for dimension \" + str(dim) +\n",
    "                         \", all dimensions of index and self should be the same size\")\n",
    "    if index.dtype != np.dtype('int_'):\n",
    "        raise TypeError(\"The values of index must be integers\")\n",
    "    data_swaped = np.swapaxes(self, 0, dim)\n",
    "    index_swaped = np.swapaxes(index, 0, dim)\n",
    "    gathered = np.choose(index_swaped, data_swaped)\n",
    "    return np.swapaxes(gathered, 0, dim)"
   ]
  },
  {
   "cell_type": "code",
   "execution_count": 94,
   "metadata": {},
   "outputs": [],
   "source": [
    "m_ = m.numpy()\n",
    "ind = np.array([1,1,0,0]).reshape(-1,1)\n",
    "bb = gather(m_, 1, ind)"
   ]
  },
  {
   "cell_type": "code",
   "execution_count": 95,
   "metadata": {},
   "outputs": [
    {
     "data": {
      "text/plain": [
       "array([[ True],\n",
       "       [ True],\n",
       "       [ True],\n",
       "       [ True]])"
      ]
     },
     "execution_count": 95,
     "metadata": {},
     "output_type": "execute_result"
    }
   ],
   "source": [
    "aa == bb"
   ]
  },
  {
   "cell_type": "code",
   "execution_count": 54,
   "metadata": {},
   "outputs": [
    {
     "data": {
      "text/plain": [
       "array([[[3, 2],\n",
       "        [1, 2]],\n",
       "\n",
       "       [[6, 5],\n",
       "        [4, 5]]])"
      ]
     },
     "execution_count": 54,
     "metadata": {},
     "output_type": "execute_result"
    }
   ],
   "source": [
    "np.take(x, index, axis=1)"
   ]
  },
  {
   "cell_type": "code",
   "execution_count": 21,
   "metadata": {},
   "outputs": [
    {
     "data": {
      "text/plain": [
       "tensor([[ 6.8046],\n",
       "        [16.4863],\n",
       "        [ 3.0496],\n",
       "        ...,\n",
       "        [16.9326],\n",
       "        [ 8.0821],\n",
       "        [17.1034]])"
      ]
     },
     "execution_count": 21,
     "metadata": {},
     "output_type": "execute_result"
    }
   ],
   "source": [
    "loss_c"
   ]
  },
  {
   "cell_type": "code",
   "execution_count": 22,
   "metadata": {},
   "outputs": [],
   "source": [
    "loss_c = loss_c.view(batch_size, -1)"
   ]
  },
  {
   "cell_type": "code",
   "execution_count": 23,
   "metadata": {},
   "outputs": [],
   "source": [
    "loss_c[pos] = 0"
   ]
  },
  {
   "cell_type": "code",
   "execution_count": 99,
   "metadata": {},
   "outputs": [
    {
     "name": "stdout",
     "output_type": "stream",
     "text": [
      "tensor([[2784, 8110, 2573,  ..., 8298, 3937, 8639],\n",
      "        [3780, 2037, 4939,  ..., 8472, 2098, 5439],\n",
      "        [3066, 7372,  660,  ..., 7581, 7409, 2293],\n",
      "        ...,\n",
      "        [7516, 6649, 6664,  ..., 4410, 8527, 7302],\n",
      "        [8424,  511,  512,  ..., 2082, 1354, 5835],\n",
      "        [3084,  483, 4354,  ..., 4455, 3103,  963]])\n",
      "torch.Size([7, 8732])\n"
     ]
    }
   ],
   "source": [
    "_, loss_idx = loss_c.sort(1, descending=True)\n",
    "print(loss_idx)\n",
    "print(loss_idx.size())"
   ]
  },
  {
   "cell_type": "code",
   "execution_count": 115,
   "metadata": {},
   "outputs": [
    {
     "name": "stdout",
     "output_type": "stream",
     "text": [
      "[[2784 8110 2573 ... 8298 3937 8639]\n",
      " [3780 2037 4939 ... 8472 2098 5439]\n",
      " [3066 7372  660 ... 7581 7409 2293]\n",
      " ...\n",
      " [7516 6649 6664 ... 4410 8527 7302]\n",
      " [8424  511  512 ... 2082 1354 5835]\n",
      " [3084  483 4354 ... 4455 3103  963]]\n",
      "(7, 8732)\n"
     ]
    }
   ],
   "source": [
    "loss_idx_ = np.argsort(loss_c, axis=-1)\n",
    "loss_idx_ = np.flip(loss_idx_,axis=-1)\n",
    "print(loss_idx_)\n",
    "print(loss_idx_.shape)"
   ]
  },
  {
   "cell_type": "code",
   "execution_count": 116,
   "metadata": {},
   "outputs": [
    {
     "name": "stdout",
     "output_type": "stream",
     "text": [
      "tensor([[5617, 1357, 7297,  ..., 1305,  626, 1905],\n",
      "        [5424, 1982, 3186,  ..., 3919,  674, 5072],\n",
      "        [5064,  167, 4735,  ..., 2778, 2540, 5151],\n",
      "        ...,\n",
      "        [2587,  359, 2002,  ..., 4271, 7531, 5650],\n",
      "        [2831, 5703, 8658,  ..., 5758, 2721, 6096],\n",
      "        [6803, 4115, 6779,  ..., 1148, 5028, 1092]])\n",
      "torch.Size([7, 8732])\n"
     ]
    }
   ],
   "source": [
    "_, idx_rank = loss_idx.sort(1)\n",
    "print(idx_rank)\n",
    "print(idx_rank.size())"
   ]
  },
  {
   "cell_type": "code",
   "execution_count": 118,
   "metadata": {},
   "outputs": [
    {
     "name": "stdout",
     "output_type": "stream",
     "text": [
      "[[5617 1357 7297 ... 1305  626 1905]\n",
      " [5424 1982 3186 ... 3919  674 5072]\n",
      " [5064  167 4735 ... 2778 2540 5151]\n",
      " ...\n",
      " [2587  359 2002 ... 4271 7531 5650]\n",
      " [2831 5703 8658 ... 5758 2721 6096]\n",
      " [6803 4115 6779 ... 1148 5028 1092]]\n",
      "(7, 8732)\n"
     ]
    }
   ],
   "source": [
    "idx_rank_ = np.argsort(loss_idx_, axis=1)\n",
    "\n",
    "print(idx_rank_)\n",
    "print(idx_rank_.shape)"
   ]
  },
  {
   "cell_type": "code",
   "execution_count": 114,
   "metadata": {},
   "outputs": [
    {
     "name": "stdout",
     "output_type": "stream",
     "text": [
      "61104\n"
     ]
    }
   ],
   "source": [
    "dd = loss_idx.numpy() == loss_idx_\n",
    "print(sum(sum(dd)))"
   ]
  },
  {
   "cell_type": "code",
   "execution_count": 25,
   "metadata": {},
   "outputs": [
    {
     "name": "stdout",
     "output_type": "stream",
     "text": [
      "torch.Size([7, 8732])\n"
     ]
    }
   ],
   "source": [
    "_, idx_rank = loss_idx.sort(1)\n",
    "print(idx_rank.size())"
   ]
  },
  {
   "cell_type": "code",
   "execution_count": 26,
   "metadata": {},
   "outputs": [],
   "source": [
    "num_pos = pos.sum(1 , keepdim = True)"
   ]
  },
  {
   "cell_type": "code",
   "execution_count": 120,
   "metadata": {},
   "outputs": [
    {
     "name": "stdout",
     "output_type": "stream",
     "text": [
      "tensor([[3],\n",
      "        [0],\n",
      "        [0],\n",
      "        [0],\n",
      "        [0],\n",
      "        [0],\n",
      "        [0]])\n",
      "torch.Size([7, 1])\n"
     ]
    }
   ],
   "source": [
    "num_neg = torch.clamp(3 * num_pos, max=pos.size(1) - 1)\n",
    "print(num_neg)\n",
    "print(num_neg.size())"
   ]
  },
  {
   "cell_type": "code",
   "execution_count": 121,
   "metadata": {},
   "outputs": [],
   "source": [
    "num_neg_ = np.clip(3 * num_pos.numpy(), a_min=None, a_max= 8731)"
   ]
  },
  {
   "cell_type": "code",
   "execution_count": 122,
   "metadata": {},
   "outputs": [
    {
     "name": "stdout",
     "output_type": "stream",
     "text": [
      "tensor([[3],\n",
      "        [0],\n",
      "        [0],\n",
      "        [0],\n",
      "        [0],\n",
      "        [0],\n",
      "        [0]])\n"
     ]
    }
   ],
   "source": [
    "print(num_neg)"
   ]
  },
  {
   "cell_type": "code",
   "execution_count": 28,
   "metadata": {},
   "outputs": [
    {
     "name": "stdout",
     "output_type": "stream",
     "text": [
      "tensor([[0, 0, 0,  ..., 0, 0, 0],\n",
      "        [0, 0, 0,  ..., 0, 0, 0],\n",
      "        [0, 0, 0,  ..., 0, 0, 0],\n",
      "        ...,\n",
      "        [0, 0, 0,  ..., 0, 0, 0],\n",
      "        [0, 0, 0,  ..., 0, 0, 0],\n",
      "        [0, 0, 0,  ..., 0, 0, 0]], dtype=torch.uint8)\n"
     ]
    }
   ],
   "source": [
    "neg = idx_rank < num_neg.expand_as(idx_rank)\n",
    "print(neg)"
   ]
  },
  {
   "cell_type": "code",
   "execution_count": 29,
   "metadata": {},
   "outputs": [
    {
     "name": "stdout",
     "output_type": "stream",
     "text": [
      "torch.Size([7, 8732, 21])\n",
      "torch.Size([7, 8732, 21])\n"
     ]
    }
   ],
   "source": [
    "pos_idx = pos.unsqueeze(2).expand_as(conf_data)\n",
    "neg_idx = neg.unsqueeze(2).expand_as(conf_data)\n",
    "print(pos_idx.size())\n",
    "print(neg_idx.size())"
   ]
  },
  {
   "cell_type": "code",
   "execution_count": 128,
   "metadata": {},
   "outputs": [
    {
     "data": {
      "text/plain": [
       "tensor(1, dtype=torch.uint8)"
      ]
     },
     "execution_count": 128,
     "metadata": {},
     "output_type": "execute_result"
    }
   ],
   "source": [
    "torch.gt(torch.tensor(21),5)"
   ]
  },
  {
   "cell_type": "code",
   "execution_count": 30,
   "metadata": {},
   "outputs": [
    {
     "name": "stdout",
     "output_type": "stream",
     "text": [
      "torch.Size([4, 21])\n"
     ]
    }
   ],
   "source": [
    "conf_p = conf_data[(pos_idx+neg_idx).gt(0)].view(-1, 21)\n",
    "print(conf_p.size())"
   ]
  },
  {
   "cell_type": "code",
   "execution_count": 31,
   "metadata": {},
   "outputs": [],
   "source": [
    "targets_weighted = conf_t[(pos+neg).gt(0)]"
   ]
  },
  {
   "cell_type": "code",
   "execution_count": 32,
   "metadata": {},
   "outputs": [],
   "source": [
    "N = num_pos.data.sum()"
   ]
  },
  {
   "cell_type": "code",
   "execution_count": 33,
   "metadata": {},
   "outputs": [
    {
     "ename": "NameError",
     "evalue": "name 'loss_l' is not defined",
     "output_type": "error",
     "traceback": [
      "\u001b[0;31m---------------------------------------------------------------------------\u001b[0m",
      "\u001b[0;31mNameError\u001b[0m                                 Traceback (most recent call last)",
      "\u001b[0;32m<ipython-input-33-d3003caa125b>\u001b[0m in \u001b[0;36m<module>\u001b[0;34m\u001b[0m\n\u001b[0;32m----> 1\u001b[0;31m \u001b[0mloss_l\u001b[0m \u001b[0;34m/=\u001b[0m \u001b[0mN\u001b[0m\u001b[0;34m\u001b[0m\u001b[0;34m\u001b[0m\u001b[0m\n\u001b[0m\u001b[1;32m      2\u001b[0m \u001b[0mloss_c\u001b[0m \u001b[0;34m/=\u001b[0m \u001b[0mN\u001b[0m\u001b[0;34m\u001b[0m\u001b[0;34m\u001b[0m\u001b[0m\n",
      "\u001b[0;31mNameError\u001b[0m: name 'loss_l' is not defined"
     ]
    }
   ],
   "source": [
    "loss_l /= N\n",
    "loss_c /= N"
   ]
  }
 ],
 "metadata": {
  "kernelspec": {
   "display_name": "Python 3",
   "language": "python",
   "name": "python3"
  },
  "language_info": {
   "codemirror_mode": {
    "name": "ipython",
    "version": 3
   },
   "file_extension": ".py",
   "mimetype": "text/x-python",
   "name": "python",
   "nbconvert_exporter": "python",
   "pygments_lexer": "ipython3",
   "version": "3.7.3"
  }
 },
 "nbformat": 4,
 "nbformat_minor": 2
}

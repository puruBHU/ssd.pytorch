{
 "cells": [
  {
   "cell_type": "code",
   "execution_count": 144,
   "metadata": {},
   "outputs": [],
   "source": [
    "from data import *\n",
    "from utils.augmentations import SSDAugmentation\n",
    "import torch\n",
    "from torch.autograd import Variable\n",
    "from box_utils import match, point_form, jaccard, match, intersect, encode\n",
    "from SSD_generate_anchors import generate_ssd_priors\n",
    "\n",
    "from pathlib import Path\n",
    "import sys\n",
    "import numpy as np\n",
    "np.set_printoptions(threshold=sys.maxsize)"
   ]
  },
  {
   "cell_type": "code",
   "execution_count": 2,
   "metadata": {},
   "outputs": [],
   "source": [
    "root = Path.home()/'Documents'/'DATASETS'/'VOCdevkit'\n",
    "cfg = voc"
   ]
  },
  {
   "cell_type": "code",
   "execution_count": 3,
   "metadata": {},
   "outputs": [],
   "source": [
    "dataset = VOCDetection(root = root,\n",
    "                      transform=SSDAugmentation(cfg['min_dim'], MEANS))"
   ]
  },
  {
   "cell_type": "code",
   "execution_count": 4,
   "metadata": {},
   "outputs": [
    {
     "data": {
      "text/plain": [
       "16551"
      ]
     },
     "execution_count": 4,
     "metadata": {},
     "output_type": "execute_result"
    }
   ],
   "source": [
    "len(dataset)"
   ]
  },
  {
   "cell_type": "code",
   "execution_count": 5,
   "metadata": {},
   "outputs": [
    {
     "name": "stdout",
     "output_type": "stream",
     "text": [
      "torch.Size([3, 300, 300])\n",
      "(4, 5)\n"
     ]
    }
   ],
   "source": [
    "sample = dataset[12706]\n",
    "print(sample[0].size())\n",
    "print(sample[1].shape)"
   ]
  },
  {
   "cell_type": "code",
   "execution_count": 6,
   "metadata": {},
   "outputs": [],
   "source": [
    "import torch.utils.data as data"
   ]
  },
  {
   "cell_type": "code",
   "execution_count": 54,
   "metadata": {},
   "outputs": [],
   "source": [
    "data_loader = data.DataLoader(dataset, 4,\n",
    "                                  num_workers=2,\n",
    "                                  shuffle=True,\n",
    "                                  collate_fn=detection_collate,\n",
    "                                  pin_memory=True)\n",
    "batch_iterator = iter(data_loader)\n",
    "\n",
    "# for i, d in enumerate(batch_iterator):\n",
    "#     print(d[0])\n",
    "#     print(d[1])\n",
    "#     if i ==1:\n",
    "#         break"
   ]
  },
  {
   "cell_type": "code",
   "execution_count": 8,
   "metadata": {},
   "outputs": [],
   "source": [
    "import collections\n",
    "\n",
    "SSDBoxSizes = collections.namedtuple('SSDBoxSizes', ['min', 'max'])\n",
    "\n",
    "Spec = collections.namedtuple('Spec', ['feature_map_size', 'shrinkage', 'box_sizes', \n",
    "                                       'aspect_ratios'])\n",
    "\n",
    "specs = [\n",
    "    Spec(38, 8, SSDBoxSizes(30, 60), [2]),\n",
    "    Spec(19, 16, SSDBoxSizes(60, 111), [2, 3]),\n",
    "    Spec(10, 32, SSDBoxSizes(111, 162), [2, 3]),\n",
    "    Spec(5, 64, SSDBoxSizes(162, 213), [2, 3]),\n",
    "    Spec(3, 100, SSDBoxSizes(213, 264), [2]),\n",
    "    Spec(1, 300, SSDBoxSizes(264, 315), [2])\n",
    "]\n",
    "\n",
    "priors = generate_ssd_priors(specs)"
   ]
  },
  {
   "cell_type": "code",
   "execution_count": 9,
   "metadata": {},
   "outputs": [],
   "source": [
    "priors = torch.from_numpy(priors)\n",
    "priors = priors.float()"
   ]
  },
  {
   "cell_type": "code",
   "execution_count": 10,
   "metadata": {},
   "outputs": [
    {
     "name": "stdout",
     "output_type": "stream",
     "text": [
      "torch.Size([8732, 4])\n"
     ]
    }
   ],
   "source": [
    "priors_point_form = point_form(priors)\n",
    "print(priors_point_form.size())"
   ]
  },
  {
   "cell_type": "code",
   "execution_count": 11,
   "metadata": {},
   "outputs": [],
   "source": [
    "default = priors_point_form.data"
   ]
  },
  {
   "cell_type": "code",
   "execution_count": 12,
   "metadata": {},
   "outputs": [
    {
     "name": "stdout",
     "output_type": "stream",
     "text": [
      "torch.Size([8732, 4])\n"
     ]
    }
   ],
   "source": [
    "print(priors.size())\n"
   ]
  },
  {
   "cell_type": "code",
   "execution_count": 13,
   "metadata": {},
   "outputs": [
    {
     "name": "stdout",
     "output_type": "stream",
     "text": [
      "tensor([[[0.],\n",
      "         [1.],\n",
      "         [2.]],\n",
      "\n",
      "        [[3.],\n",
      "         [4.],\n",
      "         [5.]],\n",
      "\n",
      "        [[6.],\n",
      "         [7.],\n",
      "         [8.]]])\n",
      "torch.Size([3, 3, 1])\n"
     ]
    }
   ],
   "source": [
    "a = torch.Tensor([[0,1,2],[3,4,5],[6,7,8]])\n",
    "a.unsqueeze_(-1)\n",
    "print(a)\n",
    "print(a.size())"
   ]
  },
  {
   "cell_type": "code",
   "execution_count": 14,
   "metadata": {},
   "outputs": [
    {
     "name": "stdout",
     "output_type": "stream",
     "text": [
      "tensor([[[0., 0., 0., 0., 0., 0., 0., 0., 0., 0.],\n",
      "         [1., 1., 1., 1., 1., 1., 1., 1., 1., 1.],\n",
      "         [2., 2., 2., 2., 2., 2., 2., 2., 2., 2.]],\n",
      "\n",
      "        [[3., 3., 3., 3., 3., 3., 3., 3., 3., 3.],\n",
      "         [4., 4., 4., 4., 4., 4., 4., 4., 4., 4.],\n",
      "         [5., 5., 5., 5., 5., 5., 5., 5., 5., 5.]],\n",
      "\n",
      "        [[6., 6., 6., 6., 6., 6., 6., 6., 6., 6.],\n",
      "         [7., 7., 7., 7., 7., 7., 7., 7., 7., 7.],\n",
      "         [8., 8., 8., 8., 8., 8., 8., 8., 8., 8.]]])\n",
      "torch.Size([3, 3, 10])\n"
     ]
    }
   ],
   "source": [
    "a = a.expand(3,3,10)\n",
    "print(a)\n",
    "print(a.size())"
   ]
  },
  {
   "cell_type": "code",
   "execution_count": 132,
   "metadata": {},
   "outputs": [
    {
     "name": "stdout",
     "output_type": "stream",
     "text": [
      "1 8732\n",
      "1 8732\n",
      "1 8732\n",
      "1 8732\n",
      "5 8732\n",
      "5 8732\n",
      "5 8732\n",
      "5 8732\n"
     ]
    }
   ],
   "source": [
    "for idx, (image, target) in enumerate(batch_iterator):\n",
    "#     print(image.size(0))\n",
    "    bs = image.size(0)\n",
    "    for i in range(bs):\n",
    "        truths = target[i][:,:-1].data\n",
    "        label  = target[i][:,-1].data\n",
    "#         print(label.size())\n",
    "        inter = intersect(truths, default)\n",
    "        iou = jaccard(truths, default)\n",
    "#         print(inter.size())\n",
    "#         print(union.size())\n",
    "#         print(overlap)\n",
    "    if idx == 0:\n",
    "        break"
   ]
  },
  {
   "cell_type": "code",
   "execution_count": 169,
   "metadata": {},
   "outputs": [
    {
     "data": {
      "text/plain": [
       "tensor([14., 14., 14.,  1.,  1.])"
      ]
     },
     "execution_count": 169,
     "metadata": {},
     "output_type": "execute_result"
    }
   ],
   "source": [
    "label"
   ]
  },
  {
   "cell_type": "code",
   "execution_count": 170,
   "metadata": {},
   "outputs": [
    {
     "name": "stdout",
     "output_type": "stream",
     "text": [
      "tensor([[0.5705],\n",
      "        [0.5421],\n",
      "        [0.7293],\n",
      "        [0.6707],\n",
      "        [0.6830]])\n",
      "tensor([[8337],\n",
      "        [6969],\n",
      "        [7077],\n",
      "        [7305],\n",
      "        [7557]])\n"
     ]
    }
   ],
   "source": [
    "best_prior_overlap, best_prior_idx = iou.max(1, keepdim=True)\n",
    "print(best_prior_overlap)\n",
    "print(best_prior_idx)"
   ]
  },
  {
   "cell_type": "code",
   "execution_count": 171,
   "metadata": {},
   "outputs": [
    {
     "name": "stdout",
     "output_type": "stream",
     "text": [
      "tensor([[0.0000, 0.0000, 0.0000,  ..., 0.0919, 0.1016, 0.1364]])\n",
      "tensor([[4, 4, 4,  ..., 0, 0, 0]])\n",
      "torch.Size([1, 8732])\n",
      "torch.Size([1, 8732])\n"
     ]
    }
   ],
   "source": [
    "best_truth_overlap, best_truth_idx = iou.max(0, keepdim=True)\n",
    "print(best_truth_overlap)\n",
    "print(best_truth_idx)\n",
    "print(best_truth_overlap.size())\n",
    "print(best_truth_idx.size())"
   ]
  },
  {
   "cell_type": "code",
   "execution_count": 172,
   "metadata": {},
   "outputs": [
    {
     "name": "stdout",
     "output_type": "stream",
     "text": [
      "torch.Size([8732])\n",
      "torch.Size([8732])\n"
     ]
    }
   ],
   "source": [
    "best_truth_idx.squeeze_(0)\n",
    "best_truth_overlap.squeeze_(0)\n",
    "print(best_truth_overlap.size())\n",
    "print(best_truth_idx.size())"
   ]
  },
  {
   "cell_type": "code",
   "execution_count": 173,
   "metadata": {},
   "outputs": [
    {
     "name": "stdout",
     "output_type": "stream",
     "text": [
      "torch.Size([5])\n",
      "torch.Size([5])\n"
     ]
    }
   ],
   "source": [
    "best_prior_idx.squeeze_(1)\n",
    "best_prior_overlap.squeeze_(1)\n",
    "print(best_prior_idx.size())\n",
    "print(best_prior_overlap.size())"
   ]
  },
  {
   "cell_type": "code",
   "execution_count": 174,
   "metadata": {},
   "outputs": [
    {
     "data": {
      "text/plain": [
       "tensor([0.0000, 0.0000, 0.0000,  ..., 0.0919, 0.1016, 0.1364])"
      ]
     },
     "execution_count": 174,
     "metadata": {},
     "output_type": "execute_result"
    }
   ],
   "source": [
    "best_truth_overlap.index_fill_(0, best_prior_idx, 2)"
   ]
  },
  {
   "cell_type": "code",
   "execution_count": 175,
   "metadata": {},
   "outputs": [
    {
     "name": "stdout",
     "output_type": "stream",
     "text": [
      "tensor([4, 4, 4,  ..., 0, 0, 0])\n",
      "tensor([8337, 6969, 7077, 7305, 7557])\n"
     ]
    }
   ],
   "source": [
    "print(best_truth_idx)\n",
    "print(best_prior_idx)"
   ]
  },
  {
   "cell_type": "code",
   "execution_count": 176,
   "metadata": {},
   "outputs": [
    {
     "data": {
      "text/plain": [
       "tensor([14., 14., 14.,  1.,  1.])"
      ]
     },
     "execution_count": 176,
     "metadata": {},
     "output_type": "execute_result"
    }
   ],
   "source": [
    "label"
   ]
  },
  {
   "cell_type": "code",
   "execution_count": 177,
   "metadata": {},
   "outputs": [
    {
     "name": "stdout",
     "output_type": "stream",
     "text": [
      "torch.Size([8732, 4])\n"
     ]
    }
   ],
   "source": [
    "a = truths[best_truth_idx]\n",
    "print(a.size())"
   ]
  },
  {
   "cell_type": "code",
   "execution_count": 24,
   "metadata": {},
   "outputs": [],
   "source": [
    "# for i in a:\n",
    "#     print(i)"
   ]
  },
  {
   "cell_type": "code",
   "execution_count": 115,
   "metadata": {},
   "outputs": [],
   "source": [
    "# for j in range(best_prior_idx.size(0)):\n",
    "#     print(best_truth_idx[best_prior_idx[j]])\n",
    "#     best_truth_idx[best_prior_idx[j]] = j\n",
    "#     print(best_truth_idx[best_prior_idx[j]])"
   ]
  },
  {
   "cell_type": "code",
   "execution_count": 178,
   "metadata": {},
   "outputs": [],
   "source": [
    "loc_t = torch.Tensor(4, 8732, 4)\n",
    "conf_t = torch.LongTensor(4, 8732)"
   ]
  },
  {
   "cell_type": "code",
   "execution_count": 185,
   "metadata": {},
   "outputs": [],
   "source": [
    "for j in range(best_prior_idx.size(0)):\n",
    "        best_truth_idx[best_prior_idx[j]] = j\n",
    "matches = truths[best_truth_idx]          # Shape: [num_priors,4]\n",
    "conf = label[best_truth_idx]          # Shape: [num_priors]\n",
    "conf[best_truth_overlap < 0.6] = 0  # label as background\n",
    "loc = encode(matches, point_form(priors), [0.1, 0.2])\n",
    "loc_t[0] = loc    # [num_priors,4] encoded offsets to learn\n",
    "conf_t[0] = conf"
   ]
  },
  {
   "cell_type": "code",
   "execution_count": 186,
   "metadata": {},
   "outputs": [
    {
     "name": "stdout",
     "output_type": "stream",
     "text": [
      "tensor(14.)\n",
      "tensor(14.)\n",
      "tensor(14.)\n",
      "tensor(1.)\n",
      "tensor(1.)\n",
      "tensor(1.)\n",
      "tensor(1.)\n",
      "tensor(1.)\n",
      "tensor(1.)\n",
      "tensor(1.)\n",
      "tensor(14.)\n"
     ]
    }
   ],
   "source": [
    "for a in conf:\n",
    "    if a != 0:\n",
    "        print(a)"
   ]
  },
  {
   "cell_type": "code",
   "execution_count": 205,
   "metadata": {},
   "outputs": [],
   "source": [
    "pos = conf_t > 0\n",
    "num_pos = pos.sum(dim=1, keepdim=True)\n"
   ]
  },
  {
   "cell_type": "code",
   "execution_count": 206,
   "metadata": {},
   "outputs": [
    {
     "data": {
      "text/plain": [
       "tensor([[  11],\n",
       "        [6312],\n",
       "        [4061],\n",
       "        [8726]])"
      ]
     },
     "execution_count": 206,
     "metadata": {},
     "output_type": "execute_result"
    }
   ],
   "source": [
    "num_pos"
   ]
  },
  {
   "cell_type": "code",
   "execution_count": 207,
   "metadata": {},
   "outputs": [
    {
     "data": {
      "text/plain": [
       "2"
      ]
     },
     "execution_count": 207,
     "metadata": {},
     "output_type": "execute_result"
    }
   ],
   "source": [
    "pos.dim()\n"
   ]
  },
  {
   "cell_type": "code",
   "execution_count": 208,
   "metadata": {},
   "outputs": [],
   "source": [
    "loc_data = torch.Tensor(4,8732,4)"
   ]
  },
  {
   "cell_type": "code",
   "execution_count": 209,
   "metadata": {},
   "outputs": [
    {
     "name": "stdout",
     "output_type": "stream",
     "text": [
      "torch.Size([4, 8732, 4])\n"
     ]
    }
   ],
   "source": [
    "pos_idx = pos.unsqueeze(pos.dim()).expand_as(loc_data)\n",
    "print(pos_idx.size())"
   ]
  },
  {
   "cell_type": "code",
   "execution_count": 211,
   "metadata": {},
   "outputs": [
    {
     "name": "stdout",
     "output_type": "stream",
     "text": [
      "torch.Size([19110, 4])\n"
     ]
    }
   ],
   "source": [
    "loc_p = loc_data[pos_idx].view(-1, 4)\n",
    "print(loc_p.size())\n"
   ]
  },
  {
   "cell_type": "code",
   "execution_count": 212,
   "metadata": {},
   "outputs": [
    {
     "name": "stdout",
     "output_type": "stream",
     "text": [
      "torch.Size([19110, 4])\n"
     ]
    }
   ],
   "source": [
    "loc_t = loc_t[pos_idx].view(-1, 4)\n",
    "print(loc_t.size())"
   ]
  },
  {
   "cell_type": "code",
   "execution_count": 28,
   "metadata": {},
   "outputs": [
    {
     "data": {
      "text/plain": [
       "tensor([1., 2., 4., 5., 6., 7.])"
      ]
     },
     "execution_count": 28,
     "metadata": {},
     "output_type": "execute_result"
    }
   ],
   "source": [
    "aa = torch.Tensor([1,2,4,5,6,7])\n",
    "aa"
   ]
  },
  {
   "cell_type": "code",
   "execution_count": 29,
   "metadata": {},
   "outputs": [
    {
     "data": {
      "text/plain": [
       "tensor([1., 2., 4., 9., 6., 7.])"
      ]
     },
     "execution_count": 29,
     "metadata": {},
     "output_type": "execute_result"
    }
   ],
   "source": [
    "aa.index_fill_(0, torch.tensor([3]),9)"
   ]
  },
  {
   "cell_type": "code",
   "execution_count": 30,
   "metadata": {},
   "outputs": [
    {
     "data": {
      "text/plain": [
       "torch.return_types.max(\n",
       "values=tensor([[0.0000, 0.0000, 0.0000,  ..., 0.0209, 0.0310, 0.0175]]),\n",
       "indices=tensor([[0, 0, 0,  ..., 0, 0, 0]]))"
      ]
     },
     "execution_count": 30,
     "metadata": {},
     "output_type": "execute_result"
    }
   ],
   "source": [
    "iou.max(0, keepdim=True)"
   ]
  },
  {
   "cell_type": "code",
   "execution_count": 31,
   "metadata": {},
   "outputs": [
    {
     "data": {
      "text/plain": [
       "torch.Size([1, 8732])"
      ]
     },
     "execution_count": 31,
     "metadata": {},
     "output_type": "execute_result"
    }
   ],
   "source": [
    "iou.size()"
   ]
  },
  {
   "cell_type": "code",
   "execution_count": 108,
   "metadata": {},
   "outputs": [],
   "source": [
    "iou_np = iou.numpy()\n",
    "# print(iou_np)"
   ]
  },
  {
   "cell_type": "code",
   "execution_count": 60,
   "metadata": {},
   "outputs": [
    {
     "name": "stdout",
     "output_type": "stream",
     "text": [
      "[[0.7423362 ]\n",
      " [0.717093  ]\n",
      " [0.6759641 ]\n",
      " [0.7175843 ]\n",
      " [0.76521665]\n",
      " [0.859685  ]\n",
      " [0.7188304 ]\n",
      " [0.738938  ]\n",
      " [0.69099313]]\n"
     ]
    }
   ],
   "source": [
    "d = np.amax(iou_np, axis= -1, keepdims=True)\n",
    "print(d)"
   ]
  },
  {
   "cell_type": "code",
   "execution_count": 62,
   "metadata": {},
   "outputs": [
    {
     "data": {
      "text/plain": [
       "(9,)"
      ]
     },
     "execution_count": 62,
     "metadata": {},
     "output_type": "execute_result"
    }
   ],
   "source": [
    "np.argmax(iou_np, axis= -1).shape"
   ]
  },
  {
   "cell_type": "code",
   "execution_count": 49,
   "metadata": {},
   "outputs": [
    {
     "data": {
      "text/plain": [
       "(array([0, 1]),)"
      ]
     },
     "execution_count": 49,
     "metadata": {},
     "output_type": "execute_result"
    }
   ],
   "source": [
    "np.where(np.argmax(iou_np, axis = 1))"
   ]
  },
  {
   "cell_type": "code",
   "execution_count": 52,
   "metadata": {},
   "outputs": [
    {
     "name": "stdout",
     "output_type": "stream",
     "text": [
      "[6109  884]\n"
     ]
    }
   ],
   "source": [
    "ind = np.unravel_index(np.argmax(iou_np, axis = -1), iou_np.shape)\n",
    "print(ind[1])"
   ]
  },
  {
   "cell_type": "code",
   "execution_count": 107,
   "metadata": {},
   "outputs": [],
   "source": [
    "# dd, ll = iou.max(0, keepdim=True)\n",
    "# dd.squeeze_(0)\n",
    "# dd = dd.numpy()\n",
    "# # print(dd)\n",
    "\n",
    "# ll.squeeze_(0)\n",
    "# ll = ll.numpy()\n",
    "# print(ll)"
   ]
  },
  {
   "cell_type": "code",
   "execution_count": 106,
   "metadata": {},
   "outputs": [],
   "source": [
    "# dd_ = np.amax(iou_np, axis=0, )\n",
    "# print(dd_)"
   ]
  },
  {
   "cell_type": "code",
   "execution_count": 76,
   "metadata": {},
   "outputs": [
    {
     "data": {
      "text/plain": [
       "8732"
      ]
     },
     "execution_count": 76,
     "metadata": {},
     "output_type": "execute_result"
    }
   ],
   "source": [
    "sum(dd == dd_)"
   ]
  },
  {
   "cell_type": "code",
   "execution_count": 105,
   "metadata": {},
   "outputs": [],
   "source": [
    "ll_ = np.argmax(iou_np, axis=0)"
   ]
  },
  {
   "cell_type": "code",
   "execution_count": 10,
   "metadata": {},
   "outputs": [],
   "source": [
    "from layers.modules import MultiBoxLoss\n",
    "from ssd import build_ssd"
   ]
  },
  {
   "cell_type": "code",
   "execution_count": 11,
   "metadata": {},
   "outputs": [],
   "source": [
    "cfg = voc"
   ]
  },
  {
   "cell_type": "code",
   "execution_count": 12,
   "metadata": {},
   "outputs": [
    {
     "data": {
      "text/plain": [
       "{'num_classes': 21,\n",
       " 'lr_steps': (80000, 100000, 120000),\n",
       " 'max_iter': 120000,\n",
       " 'feature_maps': [38, 19, 10, 5, 3, 1],\n",
       " 'min_dim': 300,\n",
       " 'steps': [8, 16, 32, 64, 100, 300],\n",
       " 'min_sizes': [30, 60, 111, 162, 213, 264],\n",
       " 'max_sizes': [60, 111, 162, 213, 264, 315],\n",
       " 'aspect_ratios': [[2], [2, 3], [2, 3], [2, 3], [2], [2]],\n",
       " 'variance': [0.1, 0.2],\n",
       " 'clip': True,\n",
       " 'name': 'VOC'}"
      ]
     },
     "execution_count": 12,
     "metadata": {},
     "output_type": "execute_result"
    }
   ],
   "source": [
    "cfg"
   ]
  },
  {
   "cell_type": "code",
   "execution_count": 42,
   "metadata": {},
   "outputs": [],
   "source": [
    "ssd_net = build_ssd('train', cfg['min_dim'], cfg['num_classes'])\n",
    "net = ssd_net.cuda()"
   ]
  },
  {
   "cell_type": "code",
   "execution_count": 44,
   "metadata": {},
   "outputs": [],
   "source": [
    "for i, d in enumerate(batch_iterator):\n",
    "    image = d[0].cuda()\n",
    "    out = net(image)\n",
    "    if i == 0:\n",
    "        break"
   ]
  },
  {
   "cell_type": "code",
   "execution_count": 45,
   "metadata": {},
   "outputs": [
    {
     "name": "stdout",
     "output_type": "stream",
     "text": [
      "torch.Size([4, 8732, 4])\n",
      "torch.Size([4, 8732, 21])\n",
      "torch.Size([8732, 4])\n"
     ]
    }
   ],
   "source": [
    "print(out[0].size())\n",
    "print(out[1].size())\n",
    "print(out[2].size())\n"
   ]
  },
  {
   "cell_type": "code",
   "execution_count": 50,
   "metadata": {},
   "outputs": [],
   "source": [
    "criterion = MultiBoxLoss(cfg['num_classes'], 0.5, True, 0, True, 3, 0.5,\n",
    "                             False, True)"
   ]
  },
  {
   "cell_type": "code",
   "execution_count": 47,
   "metadata": {},
   "outputs": [
    {
     "name": "stderr",
     "output_type": "stream",
     "text": [
      "/home/vlsilab/anaconda2/envs/pytorch/lib/python3.7/site-packages/ipykernel_launcher.py:1: UserWarning: volatile was removed and now has no effect. Use `with torch.no_grad():` instead.\n",
      "  \"\"\"Entry point for launching an IPython kernel.\n"
     ]
    }
   ],
   "source": []
  },
  {
   "cell_type": "code",
   "execution_count": 51,
   "metadata": {},
   "outputs": [],
   "source": [
    "# load train data\n",
    "images, targets = next(batch_iterator)"
   ]
  },
  {
   "cell_type": "code",
   "execution_count": 52,
   "metadata": {},
   "outputs": [
    {
     "name": "stderr",
     "output_type": "stream",
     "text": [
      "/home/vlsilab/anaconda2/envs/pytorch/lib/python3.7/site-packages/ipykernel_launcher.py:2: UserWarning: volatile was removed and now has no effect. Use `with torch.no_grad():` instead.\n",
      "  \n"
     ]
    }
   ],
   "source": [
    "images = Variable(images.cuda())\n",
    "targets = [Variable(ann.cuda(), volatile=True) for ann in targets]"
   ]
  },
  {
   "cell_type": "code",
   "execution_count": 53,
   "metadata": {},
   "outputs": [],
   "source": [
    "out = net(images)"
   ]
  },
  {
   "cell_type": "code",
   "execution_count": 55,
   "metadata": {},
   "outputs": [],
   "source": [
    "# criterion(out, targets)"
   ]
  },
  {
   "cell_type": "code",
   "execution_count": null,
   "metadata": {},
   "outputs": [],
   "source": []
  }
 ],
 "metadata": {
  "kernelspec": {
   "display_name": "Python 3",
   "language": "python",
   "name": "python3"
  },
  "language_info": {
   "codemirror_mode": {
    "name": "ipython",
    "version": 3
   },
   "file_extension": ".py",
   "mimetype": "text/x-python",
   "name": "python",
   "nbconvert_exporter": "python",
   "pygments_lexer": "ipython3",
   "version": "3.7.3"
  }
 },
 "nbformat": 4,
 "nbformat_minor": 2
}
